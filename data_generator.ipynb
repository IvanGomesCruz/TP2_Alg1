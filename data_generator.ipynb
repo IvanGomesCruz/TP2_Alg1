{
 "cells": [
  {
   "cell_type": "code",
   "execution_count": 7,
   "metadata": {},
   "outputs": [],
   "source": [
    "import numpy as np\n",
    "import pandas as pd\n",
    "from sklearn import datasets\n",
    "import matplotlib.pyplot as plt\n",
    "from itertools import cycle, islice\n",
    "from ucimlrepo import fetch_ucirepo \n",
    "from sklearn.preprocessing import StandardScaler, OneHotEncoder\n",
    "#pd.set_option('future.no_silent_downcasting', True)"
   ]
  },
  {
   "cell_type": "markdown",
   "metadata": {},
   "source": [
    "<H1> Dados Reais"
   ]
  },
  {
   "cell_type": "code",
   "execution_count": 8,
   "metadata": {},
   "outputs": [],
   "source": [
    "def generate_real_data():\n",
    "    real_data = {} \n",
    "    # mammographic_mass = fetch_ucirepo(id=161) \n",
    "    \n",
    "    # X = mammographic_mass.data.features \n",
    "    # y = mammographic_mass.data.targets \n",
    "\n",
    "\n",
    "    # blood_transfusion_service_center = fetch_ucirepo(id=176) \n",
    "    \n",
    "    # X = blood_transfusion_service_center.data.features \n",
    "    # y = blood_transfusion_service_center.data.targets \n",
    "\n",
    "\n",
    "    # autism_screening_adult = fetch_ucirepo(id=426) \n",
    "    \n",
    "    # X = autism_screening_adult.data.features \n",
    "    # y = autism_screening_adult.data.targets \n",
    "\n",
    "\n",
    "    # cervical_cancer_risk_factors = fetch_ucirepo(id=383) \n",
    "    \n",
    "    # X = cervical_cancer_risk_factors.data.features \n",
    "    # y = cervical_cancer_risk_factors.data.targets  \n",
    "\n",
    "\n",
    "    # raisin = fetch_ucirepo(id=850) \n",
    "\n",
    "    # X = raisin.data.features \n",
    "    # y = raisin.data.targets \n",
    "\n",
    "    # hcv_data = fetch_ucirepo(id=571) \n",
    "    \n",
    "    # X = hcv_data.data.features \n",
    "    # y = hcv_data.data.targets \n",
    "\n",
    "\n",
    "    # estimation_of_obesity_levels = fetch_ucirepo(id=544) \n",
    "    \n",
    "    # X = estimation_of_obesity_levels.data.features \n",
    "    # y = estimation_of_obesity_levels.data.targets \n",
    "\n",
    "\n",
    "    # purchasing_intention_dataset = fetch_ucirepo(id=468) \n",
    "    \n",
    "    # X = purchasing_intention_dataset.data.features.copy()\n",
    "    # y = purchasing_intention_dataset.data.targets.copy()\n",
    "\n",
    "\n",
    "    mice_protein_expression = fetch_ucirepo(id=342) \n",
    "    \n",
    "    X = mice_protein_expression.data.features.copy()\n",
    "    y = mice_protein_expression.data.targets.copy()\n",
    "\n",
    "    unique = y[\"class\"].unique()\n",
    "    y.replace(unique, range(len(unique)), inplace=True)\n",
    "    X.drop(['Genotype','Treatment',\"Behavior\"], axis=1, inplace=True)\n",
    "\n",
    "    real_data[\"mice_protein\"] = [X,y]\n",
    "\n",
    "    # Gene expression cancer RNA-Seq\n",
    "    #X = pd.read_csv(\"Data/TCGA-PANCAN-HiSeq-801x20531/data.csv\")\n",
    "    #y = pd.read_csv(\"Data/TCGA-PANCAN-HiSeq-801x20531/labels.csv\")\n",
    "  \n",
    "\n",
    "\n",
    "  "
   ]
  },
  {
   "cell_type": "markdown",
   "metadata": {},
   "source": [
    "<H1> Dados Sintéticos </H1>"
   ]
  },
  {
   "cell_type": "markdown",
   "metadata": {},
   "source": [
    "<H2> Primeira Abordagem"
   ]
  },
  {
   "cell_type": "code",
   "execution_count": 9,
   "metadata": {},
   "outputs": [],
   "source": [
    "def generate_scikit_synthetic_data(n_samples=500,seed=42):\n",
    "\n",
    "    noisy_circles = datasets.make_circles(n_samples=n_samples, factor=0.5, noise=0.05, random_state=seed)\n",
    "\n",
    "    noisy_moons = datasets.make_moons(n_samples=n_samples, noise=0.05, random_state=seed)\n",
    "\n",
    "    blobs = datasets.make_blobs(n_samples=n_samples, random_state=seed)\n",
    "\n",
    "    rng = np.random.RandomState(seed)\n",
    "    no_structure = rng.rand(n_samples, 2), None\n",
    "\n",
    "    # Anisotropicly distributed data\n",
    "    random_state = 170\n",
    "    X, y = datasets.make_blobs(n_samples=n_samples, random_state=random_state)\n",
    "    transformation = [[0.6, -0.6], [-0.4, 0.8]]\n",
    "    X_aniso = np.dot(X, transformation)\n",
    "    aniso = (X_aniso, y)\n",
    "\n",
    "    # blobs with varied variances\n",
    "    varied = datasets.make_blobs(n_samples=n_samples, cluster_std=[1.0, 2.5, 0.5], random_state=random_state)\n",
    "    \n",
    "    data = [noisy_circles, noisy_moons, blobs, rng, no_structure, aniso, varied]\n",
    "    return data"
   ]
  },
  {
   "cell_type": "code",
   "execution_count": 10,
   "metadata": {},
   "outputs": [],
   "source": [
    "# sci_synt = generate_scikit_synthetic_data()"
   ]
  },
  {
   "cell_type": "code",
   "execution_count": 11,
   "metadata": {},
   "outputs": [],
   "source": [
    "# for i_dataset, (dataset, algo_params) in enumerate(datasets_v):\n",
    "#     X, y = dataset\n",
    "#     X = StandardScaler().fit_transform(X)\n",
    "#     plt.scatter(X[:,0],X[:,1],s=10)\n",
    "#     plt.show()"
   ]
  },
  {
   "cell_type": "markdown",
   "metadata": {},
   "source": [
    "<H2> Segunda Abordagem"
   ]
  },
  {
   "cell_type": "code",
   "execution_count": 12,
   "metadata": {},
   "outputs": [],
   "source": [
    "def generate_multivariate_data(num_clusters, num_samples, std_devs):\n",
    "    \"\"\"\n",
    "    Gera dados sintéticos em 2 dimensões usando a distribuição normal multivariada.\n",
    "\n",
    "    :param num_clusters: Número de clusters (grupos) a serem gerados.\n",
    "    :param num_samples: Número de amostras a serem geradas por cluster.\n",
    "    :param std_devs: Lista com desvios padrão para cada cluster.\n",
    "    :return: Dados gerados em forma de array numpy.\n",
    "    \"\"\"\n",
    "    np.random.seed(42)\n",
    "    points = []\n",
    "    labels = []\n",
    "    centers = np.random.uniform(-10, 50, (num_clusters, 2))  # Centros aleatórios para os clusters\n",
    "    \n",
    "    for i in range(num_clusters):\n",
    "        center = centers[i]\n",
    "        std_dev = std_devs[i%len(std_devs)]\n",
    "        cluster_points = np.random.multivariate_normal(center, np.eye(2) * std_dev**2, num_samples)\n",
    "        points.append(cluster_points)\n",
    "        labels.append(np.full(shape=(num_samples, 1), fill_value=i))\n",
    "    \n",
    "    return np.vstack(points), np.vstack(labels), centers"
   ]
  },
  {
   "cell_type": "code",
   "execution_count": 13,
   "metadata": {},
   "outputs": [],
   "source": [
    "def generate_synthetic_data(num_clusters: list, num_samples: int, std_devs: list):\n",
    "    \n",
    "    synthetic_data = []\n",
    "\n",
    "    for n_c in num_clusters:\n",
    "            \n",
    "        data, labels, centers = generate_multivariate_data(n_c, num_samples, std_devs)\n",
    "\n",
    "        # Plotar os dados\n",
    "        plt.figure(figsize=(10, 6))\n",
    "        plt.scatter(data[:, 0], data[:, 1], s=10, alpha=0.7, label='Dados')\n",
    "        plt.scatter(centers[:, 0], centers[:, 1], color='red', marker='.', s=100, label='Centros dos Clusters')\n",
    "        #plt.title('Dados Gerados com Distribuição Normal Multivariada')\n",
    "        #plt.xlabel('Dimensão 1')\n",
    "        #plt.ylabel('Dimensão 2')\n",
    "        plt.legend()\n",
    "        plt.grid(True)\n",
    "        plt.show()\n",
    "        synthetic_data.append([data, labels, centers])\n",
    "    return synthetic_data\n",
    "    \n"
   ]
  },
  {
   "cell_type": "code",
   "execution_count": 14,
   "metadata": {},
   "outputs": [],
   "source": [
    "# num_clusters = [2, 3, 4, 5, 6, 7, 8, 9]\n",
    "# num_samples = 700\n",
    "# std_devs = [0.5, 5.0, 10]\n",
    "# data = generate_synthetic_data(num_clusters, num_samples, std_devs)"
   ]
  }
 ],
 "metadata": {
  "kernelspec": {
   "display_name": "Python 3",
   "language": "python",
   "name": "python3"
  },
  "language_info": {
   "codemirror_mode": {
    "name": "ipython",
    "version": 3
   },
   "file_extension": ".py",
   "mimetype": "text/x-python",
   "name": "python",
   "nbconvert_exporter": "python",
   "pygments_lexer": "ipython3",
   "version": "3.12.5"
  }
 },
 "nbformat": 4,
 "nbformat_minor": 2
}
